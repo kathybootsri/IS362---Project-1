{
 "cells": [
  {
   "cell_type": "markdown",
   "metadata": {},
   "source": [
    "# Project 1: Analyzing Arrivals for AmWest and Alaska Airlines"
   ]
  },
  {
   "cell_type": "markdown",
   "metadata": {},
   "source": [
    "### Import Raw Data from CSV File and Update Path to File"
   ]
  },
  {
   "cell_type": "code",
   "execution_count": 163,
   "metadata": {},
   "outputs": [
    {
     "name": "stdout",
     "output_type": "stream",
     "text": [
      "   Airline Description    Destination  Count of Flights\n",
      "0   Alaska      ontime    Los Angeles               497\n",
      "1   Alaska      ontime        Phoenix               221\n",
      "2   Alaska      ontime      San Diego               212\n",
      "3   Alaska      ontime  San Francisco               503\n",
      "4   Alaska      ontime        Seattle              1841\n",
      "5   Alaska     delayed    Los Angeles                62\n",
      "6   Alaska     delayed        Phoenix                12\n",
      "7   Alaska     delayed      San Diego                20\n",
      "8   Alaska     delayed  San Francisco               102\n",
      "9   Alaska     delayed        Seattle               305\n",
      "10  AmWest      ontime    Los Angeles               694\n",
      "11  AmWest      ontime        Phoenix              4840\n",
      "12  AmWest      ontime      San Diego               383\n",
      "13  AmWest      ontime  San Francisco               320\n",
      "14  AmWest      ontime        Seattle               201\n",
      "15  AmWest     delayed    Los Angeles               117\n",
      "16  AmWest     delayed        Phoenix               415\n",
      "17  AmWest     delayed      San Diego                65\n",
      "18  AmWest     delayed  San Francisco               129\n",
      "19  AmWest     delayed        Seattle                61\n"
     ]
    }
   ],
   "source": [
    "import pandas as pd\n",
    "import numpy as np\n",
    "\n",
    "path_to_file = \"C:\\\\Users\\\\kboostri\\\\OneDrive - Schrafts's 2.0 LLC\\\\Documents\\\\Kathy\\\\Dataset.csv\"\n",
    "\n",
    "df = pd.read_csv(path_to_file)\n",
    "\n",
    "print(df)"
   ]
  },
  {
   "cell_type": "markdown",
   "metadata": {},
   "source": [
    "#### Drop Values with Description \"ontime\" to Analyze Only Delayed Rows Then Sort Greatest to Least Flight Count"
   ]
  },
  {
   "cell_type": "code",
   "execution_count": 92,
   "metadata": {},
   "outputs": [],
   "source": [
    "df = df.drop(df[df.Description == 'ontime'].index)\n",
    "\n",
    "df2 = df.sort_values(by = ['Count of Flights'], ascending=False)"
   ]
  },
  {
   "cell_type": "markdown",
   "metadata": {},
   "source": [
    "#### Filter Out Rows for AmWest to Analyze The Cities With Greatest Delays for the Airline"
   ]
  },
  {
   "cell_type": "code",
   "execution_count": 95,
   "metadata": {},
   "outputs": [
    {
     "data": {
      "text/html": [
       "<div>\n",
       "<style scoped>\n",
       "    .dataframe tbody tr th:only-of-type {\n",
       "        vertical-align: middle;\n",
       "    }\n",
       "\n",
       "    .dataframe tbody tr th {\n",
       "        vertical-align: top;\n",
       "    }\n",
       "\n",
       "    .dataframe thead th {\n",
       "        text-align: right;\n",
       "    }\n",
       "</style>\n",
       "<table border=\"1\" class=\"dataframe\">\n",
       "  <thead>\n",
       "    <tr style=\"text-align: right;\">\n",
       "      <th></th>\n",
       "      <th>Airline</th>\n",
       "      <th>Description</th>\n",
       "      <th>Destination</th>\n",
       "      <th>Count of Flights</th>\n",
       "    </tr>\n",
       "  </thead>\n",
       "  <tbody>\n",
       "    <tr>\n",
       "      <td>16</td>\n",
       "      <td>AmWest</td>\n",
       "      <td>delayed</td>\n",
       "      <td>Phoenix</td>\n",
       "      <td>415</td>\n",
       "    </tr>\n",
       "    <tr>\n",
       "      <td>18</td>\n",
       "      <td>AmWest</td>\n",
       "      <td>delayed</td>\n",
       "      <td>San Francisco</td>\n",
       "      <td>129</td>\n",
       "    </tr>\n",
       "    <tr>\n",
       "      <td>15</td>\n",
       "      <td>AmWest</td>\n",
       "      <td>delayed</td>\n",
       "      <td>Los Angeles</td>\n",
       "      <td>117</td>\n",
       "    </tr>\n",
       "    <tr>\n",
       "      <td>17</td>\n",
       "      <td>AmWest</td>\n",
       "      <td>delayed</td>\n",
       "      <td>San Diego</td>\n",
       "      <td>65</td>\n",
       "    </tr>\n",
       "    <tr>\n",
       "      <td>19</td>\n",
       "      <td>AmWest</td>\n",
       "      <td>delayed</td>\n",
       "      <td>Seattle</td>\n",
       "      <td>61</td>\n",
       "    </tr>\n",
       "  </tbody>\n",
       "</table>\n",
       "</div>"
      ],
      "text/plain": [
       "   Airline Description    Destination  Count of Flights\n",
       "16  AmWest     delayed        Phoenix               415\n",
       "18  AmWest     delayed  San Francisco               129\n",
       "15  AmWest     delayed    Los Angeles               117\n",
       "17  AmWest     delayed      San Diego                65\n",
       "19  AmWest     delayed        Seattle                61"
      ]
     },
     "execution_count": 95,
     "metadata": {},
     "output_type": "execute_result"
    }
   ],
   "source": [
    "df2[df2.Airline == 'AmWest']"
   ]
  },
  {
   "cell_type": "markdown",
   "metadata": {},
   "source": [
    "#### Filter Out Rows for Alaska to Analyze The Cities With Greatest Delays for the Airline"
   ]
  },
  {
   "cell_type": "code",
   "execution_count": 94,
   "metadata": {},
   "outputs": [
    {
     "data": {
      "text/html": [
       "<div>\n",
       "<style scoped>\n",
       "    .dataframe tbody tr th:only-of-type {\n",
       "        vertical-align: middle;\n",
       "    }\n",
       "\n",
       "    .dataframe tbody tr th {\n",
       "        vertical-align: top;\n",
       "    }\n",
       "\n",
       "    .dataframe thead th {\n",
       "        text-align: right;\n",
       "    }\n",
       "</style>\n",
       "<table border=\"1\" class=\"dataframe\">\n",
       "  <thead>\n",
       "    <tr style=\"text-align: right;\">\n",
       "      <th></th>\n",
       "      <th>Airline</th>\n",
       "      <th>Description</th>\n",
       "      <th>Destination</th>\n",
       "      <th>Count of Flights</th>\n",
       "    </tr>\n",
       "  </thead>\n",
       "  <tbody>\n",
       "    <tr>\n",
       "      <td>9</td>\n",
       "      <td>Alaska</td>\n",
       "      <td>delayed</td>\n",
       "      <td>Seattle</td>\n",
       "      <td>305</td>\n",
       "    </tr>\n",
       "    <tr>\n",
       "      <td>8</td>\n",
       "      <td>Alaska</td>\n",
       "      <td>delayed</td>\n",
       "      <td>San Francisco</td>\n",
       "      <td>102</td>\n",
       "    </tr>\n",
       "    <tr>\n",
       "      <td>5</td>\n",
       "      <td>Alaska</td>\n",
       "      <td>delayed</td>\n",
       "      <td>Los Angeles</td>\n",
       "      <td>62</td>\n",
       "    </tr>\n",
       "    <tr>\n",
       "      <td>7</td>\n",
       "      <td>Alaska</td>\n",
       "      <td>delayed</td>\n",
       "      <td>San Diego</td>\n",
       "      <td>20</td>\n",
       "    </tr>\n",
       "    <tr>\n",
       "      <td>6</td>\n",
       "      <td>Alaska</td>\n",
       "      <td>delayed</td>\n",
       "      <td>Phoenix</td>\n",
       "      <td>12</td>\n",
       "    </tr>\n",
       "  </tbody>\n",
       "</table>\n",
       "</div>"
      ],
      "text/plain": [
       "  Airline Description    Destination  Count of Flights\n",
       "9  Alaska     delayed        Seattle               305\n",
       "8  Alaska     delayed  San Francisco               102\n",
       "5  Alaska     delayed    Los Angeles                62\n",
       "7  Alaska     delayed      San Diego                20\n",
       "6  Alaska     delayed        Phoenix                12"
      ]
     },
     "execution_count": 94,
     "metadata": {},
     "output_type": "execute_result"
    }
   ],
   "source": [
    "df2[df2.Airline == 'Alaska']"
   ]
  },
  {
   "cell_type": "markdown",
   "metadata": {},
   "source": [
    "#### Drop Airlines and Description to Analyze the Cities with the Greatest Delays"
   ]
  },
  {
   "cell_type": "code",
   "execution_count": 104,
   "metadata": {},
   "outputs": [
    {
     "name": "stdout",
     "output_type": "stream",
     "text": [
      "      Destination  Count of Flights\n",
      "16        Phoenix               415\n",
      "9         Seattle               305\n",
      "18  San Francisco               129\n",
      "15    Los Angeles               117\n",
      "8   San Francisco               102\n",
      "17      San Diego                65\n",
      "5     Los Angeles                62\n",
      "19        Seattle                61\n",
      "7       San Diego                20\n",
      "6         Phoenix                12\n"
     ]
    }
   ],
   "source": [
    "df3 = df2.drop(labels = ['Airline', 'Description'], axis=1)"
   ]
  },
  {
   "cell_type": "markdown",
   "metadata": {},
   "source": [
    "#### Summate Duplicate Rows as Unique Values and Sort by Greatest Value"
   ]
  },
  {
   "cell_type": "code",
   "execution_count": 160,
   "metadata": {},
   "outputs": [
    {
     "name": "stdout",
     "output_type": "stream",
     "text": [
      "     Destination  Count of Flights\n",
      "0        Phoenix               427\n",
      "1        Seattle               366\n",
      "2  San Francisco               231\n",
      "3    Los Angeles               179\n",
      "4      San Diego                85\n"
     ]
    }
   ],
   "source": [
    "grouped = df3.groupby(['Destination']).agg('sum').sort_values(by = ['Count of Flights'], ascending=False).reset_index()\n",
    "\n",
    "print(grouped)"
   ]
  },
  {
   "cell_type": "markdown",
   "metadata": {},
   "source": [
    "#### Populate the Top Three Cities with Greatest Delays, Regardless of Airline"
   ]
  },
  {
   "cell_type": "code",
   "execution_count": 161,
   "metadata": {},
   "outputs": [
    {
     "name": "stdout",
     "output_type": "stream",
     "text": [
      "The Top Three City With the Greatest Delays: \n",
      "Phoenix\n",
      "Seattle\n",
      "San Francisco\n"
     ]
    }
   ],
   "source": [
    "print(\"The Top Three City With the Greatest Delays: \")\n",
    "\n",
    "top_three = grouped.head(3)\n",
    "\n",
    "\n",
    "for row in range(len(top_three)):\n",
    "    print(top_three.iloc[row]['Destination'])"
   ]
  }
 ],
 "metadata": {
  "kernelspec": {
   "display_name": "Python 3",
   "language": "python",
   "name": "python3"
  },
  "language_info": {
   "codemirror_mode": {
    "name": "ipython",
    "version": 3
   },
   "file_extension": ".py",
   "mimetype": "text/x-python",
   "name": "python",
   "nbconvert_exporter": "python",
   "pygments_lexer": "ipython3",
   "version": "3.7.4"
  }
 },
 "nbformat": 4,
 "nbformat_minor": 2
}
